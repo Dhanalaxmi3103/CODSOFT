{
  "nbformat": 4,
  "nbformat_minor": 0,
  "metadata": {
    "colab": {
      "provenance": [],
      "authorship_tag": "ABX9TyOIlTh7lVCkbXHywh9ddeDV",
      "include_colab_link": true
    },
    "kernelspec": {
      "name": "python3",
      "display_name": "Python 3"
    },
    "language_info": {
      "name": "python"
    }
  },
  "cells": [
    {
      "cell_type": "markdown",
      "metadata": {
        "id": "view-in-github",
        "colab_type": "text"
      },
      "source": [
        "<a href=\"https://colab.research.google.com/github/Dhanalaxmi3103/Codsoft/blob/Python/Task_3_Password_generator.ipynb\" target=\"_parent\"><img src=\"https://colab.research.google.com/assets/colab-badge.svg\" alt=\"Open In Colab\"/></a>"
      ]
    },
    {
      "cell_type": "code",
      "source": [
        "import random\n",
        "import string\n",
        "\n",
        "def passwordGenerator(length):\n",
        "  chars=string.ascii_letters+string.digits+string.punctuation\n",
        "\n",
        "  secret=''.join(random.choice(chars)for i in range(length))\n",
        "\n",
        "\n",
        "  return secret\n",
        "\n",
        "#Asking user for required length of password\n",
        "length=int(input(\"Enter the length of password:\"))\n",
        "\n",
        "\n",
        "secret=passwordGenerator(length)\n",
        "\n",
        "print(\"Length of passwod is \",length)\n",
        "print(\"Generated password is :\",secret)"
      ],
      "metadata": {
        "colab": {
          "base_uri": "https://localhost:8080/"
        },
        "id": "cLqGX0UAf2PJ",
        "outputId": "fd0de891-9f4a-490f-a7c4-807249385296"
      },
      "execution_count": null,
      "outputs": [
        {
          "output_type": "stream",
          "name": "stdout",
          "text": [
            "Enter the length of password:18\n",
            "Length of passwod is  18\n",
            "Generated password is : :9&8,_4f[%(9ntgj9y\n"
          ]
        }
      ]
    }
  ]
}