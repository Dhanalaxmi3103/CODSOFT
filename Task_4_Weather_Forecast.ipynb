{
  "nbformat": 4,
  "nbformat_minor": 0,
  "metadata": {
    "colab": {
      "provenance": [],
      "authorship_tag": "ABX9TyMPHI5/SRSNHK96w0rWQ7P1",
      "include_colab_link": true
    },
    "kernelspec": {
      "name": "python3",
      "display_name": "Python 3"
    },
    "language_info": {
      "name": "python"
    }
  },
  "cells": [
    {
      "cell_type": "markdown",
      "metadata": {
        "id": "view-in-github",
        "colab_type": "text"
      },
      "source": [
        "<a href=\"https://colab.research.google.com/github/Dhanalaxmi3103/Codsoft/blob/Python/Task_4_Weather_Forecast.ipynb\" target=\"_parent\"><img src=\"https://colab.research.google.com/assets/colab-badge.svg\" alt=\"Open In Colab\"/></a>"
      ]
    },
    {
      "cell_type": "code",
      "execution_count": 14,
      "metadata": {
        "id": "ti5BB1OXXQcS",
        "outputId": "6ddecebd-60bc-42fd-8870-22bb5b95b094",
        "colab": {
          "base_uri": "https://localhost:8080/"
        }
      },
      "outputs": [
        {
          "output_type": "stream",
          "name": "stdout",
          "text": [
            "Enter a city: hyderabad\n",
            "\n",
            "*****WEATHER FORECAST*****\n",
            "City: hyderabad\n",
            "Temperatue:  96°F\n",
            "Time:  Tuesday 2:41 PM\n",
            "Sky description: Partly cloudy\n",
            ".\n"
          ]
        }
      ],
      "source": [
        "import requests\n",
        "from bs4 import BeautifulSoup\n",
        "\n",
        "city=input('Enter a city: ')\n",
        "\n",
        "#creating url and requests instance\n",
        "url=\"https://www.google.com/search?q=\"+\"weather\"+city\n",
        "html=requests.get(url).content\n",
        "\n",
        "#getting raw Data\n",
        "soup=BeautifulSoup(html, 'html.parser')\n",
        "temp=soup.find('div',attrs={'class':'BNeawe iBp4i AP7Wnd'}).text\n",
        "str=soup.find('div',attrs={'class':'BNeawe tAd8D AP7Wnd'}).text\n",
        "\n",
        "#formatting Data\n",
        "data=str.split('\\n')\n",
        "time=data[0]\n",
        "sky=data[1]\n",
        "\n",
        "#getting all div tags\n",
        "listdiv=soup.findAll('div',attrs={'class':'BNeawe s3v9rd AP7Wnd'})\n",
        "strd=listdiv[5].text\n",
        "\n",
        "#Getting other required data\n",
        "pos=strd.find('wind')\n",
        "other_data=strd[pos:]\n",
        "\n",
        "print(\"\\n*****WEATHER FORECAST*****\")\n",
        "print(\"City:\",city)\n",
        "print('Temperatue: ',temp)\n",
        "print('Time: ',time)\n",
        "print('Sky description:',sky)\n",
        "print(other_data)"
      ]
    }
  ]
}