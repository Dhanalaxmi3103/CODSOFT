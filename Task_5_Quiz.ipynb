{
  "nbformat": 4,
  "nbformat_minor": 0,
  "metadata": {
    "colab": {
      "provenance": [],
      "authorship_tag": "ABX9TyN8W2C5qKpiN997Y+kxnAdm",
      "include_colab_link": true
    },
    "kernelspec": {
      "name": "python3",
      "display_name": "Python 3"
    },
    "language_info": {
      "name": "python"
    }
  },
  "cells": [
    {
      "cell_type": "markdown",
      "metadata": {
        "id": "view-in-github",
        "colab_type": "text"
      },
      "source": [
        "<a href=\"https://colab.research.google.com/github/Dhanalaxmi3103/Codsoft/blob/Python/Task_5_Quiz.ipynb\" target=\"_parent\"><img src=\"https://colab.research.google.com/assets/colab-badge.svg\" alt=\"Open In Colab\"/></a>"
      ]
    },
    {
      "cell_type": "code",
      "execution_count": 20,
      "metadata": {
        "colab": {
          "base_uri": "https://localhost:8080/"
        },
        "id": "uZr8Nu78BLPK",
        "outputId": "7c26ec95-b333-46fb-c378-d50b23f5d290"
      },
      "outputs": [
        {
          "output_type": "stream",
          "name": "stdout",
          "text": [
            "Enter your Name:Dhanalaxmi\n",
            "Who developed PYTHON?\n",
            "A.Zim Den\n",
            "B.Niene Stom\n",
            "C.Guido Van Rossum\n",
            "D.Wick Van\n",
            "Select your answer(enter A,B,C,D):a\n",
            "In which year PYTHON 3.0 version was developed?\n",
            "A.2006\n",
            "B.2008\n",
            "C.2004\n",
            "D.1999\n",
            "Select your answer(enter A,B,C,D):b\n",
            "Which of the following is correct extension of python file.\n",
            "A..py\n",
            "B..python\n",
            "C..c\n",
            "D..exe\n",
            "Select your answer(enter A,B,C,D):a\n",
            "Which of the is used to define a block of code in python.\n",
            "A.Key\n",
            "B.brackets\n",
            "C.Indentation\n",
            "D.All\n",
            "Select your answer(enter A,B,C,D):c\n",
            "Quiz Comlpete.\n",
            "Dear  Dhanalaxmi \n",
            "Your score is 3 out of 4\n"
          ]
        }
      ],
      "source": [
        "import random\n",
        "Name=input(\"Enter your Name:\")\n",
        "\n",
        "def questioning(question,choices,answer):\n",
        "  print(question)\n",
        "  for i,option in enumerate(choices):\n",
        "    print(f\"{chr(65+i)}.{option}\")\n",
        "  selected_answer=input(\"Select your answer(enter A,B,C,D):\")\n",
        "  if selected_answer.upper()==chr(65+answer):\n",
        "    return True\n",
        "  return False\n",
        "\n",
        "def quiz(question,choices,answers):\n",
        "  score=0\n",
        "  shuffle_indices=list(range(len(question)))\n",
        "  random.shuffle(shuffle_indices)\n",
        "  for i in shuffle_indices:\n",
        "    if questioning(question[i],choices[i],answer[i]):\n",
        "      score+=1\n",
        "  return score\n",
        "\n",
        "question=[\n",
        "    \"Who developed PYTHON?\",\n",
        "    \"In which year PYTHON 3.0 version was developed?\",\n",
        "    \"Which of the following is correct extension of python file.\",\n",
        "    \"Which of the is used to define a block of code in python.\"\n",
        "]\n",
        "\n",
        "choices=[\n",
        "    [\"Zim Den\",\"Niene Stom\",\"Guido Van Rossum\",\"Wick Van\"],\n",
        "    [\"2006\",\"2008\",\"2004\",\"1999\"],\n",
        "    [\".py\",\".python\",\".c\",\".exe\"],\n",
        "    [\"Key\",\"brackets\",\"Indentation\",\"All\"]\n",
        "]\n",
        "\n",
        "answer=[2,1,0,2]\n",
        "\n",
        "quiz_score=quiz(question,choices,answer)\n",
        "\n",
        "print(\"Quiz Comlpete.\\nDear \",Name,\"\\nYour score is\",quiz_score,\"out of 4\")\n"
      ]
    },
    {
      "cell_type": "code",
      "source": [],
      "metadata": {
        "id": "Liz6Jn3HCQ9E"
      },
      "execution_count": null,
      "outputs": []
    }
  ]
}