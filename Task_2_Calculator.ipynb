{
  "nbformat": 4,
  "nbformat_minor": 0,
  "metadata": {
    "colab": {
      "provenance": [],
      "authorship_tag": "ABX9TyMDMmN2Jl/fxVTAJw4x7d3D",
      "include_colab_link": true
    },
    "kernelspec": {
      "name": "python3",
      "display_name": "Python 3"
    },
    "language_info": {
      "name": "python"
    }
  },
  "cells": [
    {
      "cell_type": "markdown",
      "metadata": {
        "id": "view-in-github",
        "colab_type": "text"
      },
      "source": [
        "<a href=\"https://colab.research.google.com/github/Dhanalaxmi3103/Codsoft/blob/Python/Task_2_Calculator.ipynb\" target=\"_parent\"><img src=\"https://colab.research.google.com/assets/colab-badge.svg\" alt=\"Open In Colab\"/></a>"
      ]
    },
    {
      "cell_type": "code",
      "source": [
        "# defining function to addition of numbers\n",
        "def addition(x,y):\n",
        "  return x+y\n",
        "\n",
        "#defining function to subraction of numbers\n",
        "def subtraction(x,y):\n",
        "  return x-y\n",
        "\n",
        "#defining function to multiplication of numbers\n",
        "def multiplication(x,y):\n",
        "  return x*y\n",
        "\n",
        "#defining function to division of numbers\n",
        "def division(x,y):\n",
        "  return x/y\n",
        "\n",
        "# defining function to get power of numbers\n",
        "def power(x,y):\n",
        "  return x**y\n",
        "\n",
        "#defining function to get remainder\n",
        "def remainder(x,y):\n",
        "   return x%y\n",
        "\n",
        "print(\"Select operation\")\n",
        "print(\"1.Addition\")\n",
        "print(\"2.Subtraction\")\n",
        "print(\"3.Multiplication\")\n",
        "print(\"4.Division\")\n",
        "print(\"5.Exponent\")\n",
        "print(\"6.Remainder\\n\")\n",
        "\n",
        "n1=float(input(\"Enter first number:\"))\n",
        "\n",
        "operator=input(\"Select operation from(1,2,3,4,5,6):\")\n",
        "\n",
        "n2=float(input(\"Enter second number:\"))\n",
        "\n",
        "if operator==\"1\":\n",
        "  print(n1,\"+\",n2,\"=\",addition(n1,n2))\n",
        "elif operator==\"2\":\n",
        "  print(n1,\"-\",n2,\"=\",subtraction(n1,n2))\n",
        "elif operator==\"3\":\n",
        "  print(n1,\"*\",n2,\"=\",multiplication(n1,n2))\n",
        "elif operator==\"4\":\n",
        "  print(n1,\"/\",n2,\"=\",division(n1,n2))\n",
        "elif operator==\"5\":\n",
        "  print(n1,\"^\",n2,\"=\",power(n1,n2))\n",
        "elif operator==\"6\":\n",
        "  print(n1,\"%\",n2,\"=\",remainder(n1,n2))\n",
        "else:\n",
        "  print(\"Invalid operator\")\n"
      ],
      "metadata": {
        "colab": {
          "base_uri": "https://localhost:8080/"
        },
        "id": "uy-i7lxPsevp",
        "outputId": "f17f7090-e724-4006-d1c0-fd9bba6c8bb1"
      },
      "execution_count": 9,
      "outputs": [
        {
          "output_type": "stream",
          "name": "stdout",
          "text": [
            "Select operation\n",
            "1.Addition\n",
            "2.Subtraction\n",
            "3.Multiplication\n",
            "4.Division\n",
            "5.Exponent\n",
            "6.Remainder\n",
            "\n",
            "Enter first number:56\n",
            "Select operation from(1,2,3,4,5,6):4\n",
            "Enter second number:5\n",
            "56.0 / 5.0 = 11.2\n"
          ]
        }
      ]
    }
  ]
}