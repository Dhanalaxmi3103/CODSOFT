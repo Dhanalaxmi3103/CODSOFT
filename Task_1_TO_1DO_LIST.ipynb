{
  "cells": [
    {
      "cell_type": "markdown",
      "metadata": {
        "id": "view-in-github",
        "colab_type": "text"
      },
      "source": [
        "<a href=\"https://colab.research.google.com/github/Dhanalaxmi3103/Codsoft/blob/Python/Task_1_TO_1DO_LIST.ipynb\" target=\"_parent\"><img src=\"https://colab.research.google.com/assets/colab-badge.svg\" alt=\"Open In Colab\"/></a>"
      ]
    },
    {
      "cell_type": "code",
      "execution_count": 1,
      "metadata": {
        "colab": {
          "base_uri": "https://localhost:8080/",
          "height": 801
        },
        "id": "Jvw15iZmhVCY",
        "outputId": "88cfcd41-4f0c-4fcc-8af3-af31f010dab4"
      },
      "outputs": [
        {
          "name": "stdout",
          "output_type": "stream",
          "text": [
            "\n",
            "\n",
            "~~~~~~~~TO_DO LIST~~~~~~~~~~\n",
            "1.Add Task\n",
            "2.Delete a Task\n",
            "3.Delete all Tasks\n",
            "4.Edit a Task\n",
            "5.View tasks\n",
            "6.Exit\n",
            "Enter your option:1\n",
            "Enter your task to do:cooking\n",
            "Your task added to LIST\n",
            "\n",
            "\n",
            "~~~~~~~~TO_DO LIST~~~~~~~~~~\n",
            "1.Add Task\n",
            "2.Delete a Task\n",
            "3.Delete all Tasks\n",
            "4.Edit a Task\n",
            "5.View tasks\n",
            "6.Exit\n",
            "Enter your option:1\n",
            "Enter your task to do:reading\n",
            "Your task added to LIST\n",
            "\n",
            "\n",
            "~~~~~~~~TO_DO LIST~~~~~~~~~~\n",
            "1.Add Task\n",
            "2.Delete a Task\n",
            "3.Delete all Tasks\n",
            "4.Edit a Task\n",
            "5.View tasks\n",
            "6.Exit\n",
            "Enter your option:playing\n"
          ]
        },
        {
          "output_type": "error",
          "ename": "ValueError",
          "evalue": "invalid literal for int() with base 10: 'playing'",
          "traceback": [
            "\u001b[0;31m---------------------------------------------------------------------------\u001b[0m",
            "\u001b[0;31mValueError\u001b[0m                                Traceback (most recent call last)",
            "\u001b[0;32m<ipython-input-1-18f27ab5af80>\u001b[0m in \u001b[0;36m<cell line: 65>\u001b[0;34m()\u001b[0m\n\u001b[1;32m     65\u001b[0m \u001b[0;32mwhile\u001b[0m \u001b[0;32mTrue\u001b[0m\u001b[0;34m:\u001b[0m\u001b[0;34m\u001b[0m\u001b[0;34m\u001b[0m\u001b[0m\n\u001b[1;32m     66\u001b[0m   \u001b[0mshow_options\u001b[0m\u001b[0;34m(\u001b[0m\u001b[0;34m)\u001b[0m\u001b[0;34m\u001b[0m\u001b[0;34m\u001b[0m\u001b[0m\n\u001b[0;32m---> 67\u001b[0;31m   \u001b[0moption\u001b[0m\u001b[0;34m=\u001b[0m\u001b[0mint\u001b[0m\u001b[0;34m(\u001b[0m\u001b[0minput\u001b[0m\u001b[0;34m(\u001b[0m\u001b[0;34m\"Enter your option:\"\u001b[0m\u001b[0;34m)\u001b[0m\u001b[0;34m)\u001b[0m\u001b[0;34m\u001b[0m\u001b[0;34m\u001b[0m\u001b[0m\n\u001b[0m\u001b[1;32m     68\u001b[0m \u001b[0;34m\u001b[0m\u001b[0m\n\u001b[1;32m     69\u001b[0m   \u001b[0;32mif\u001b[0m \u001b[0moption\u001b[0m\u001b[0;34m==\u001b[0m\u001b[0;36m1\u001b[0m\u001b[0;34m:\u001b[0m\u001b[0;34m\u001b[0m\u001b[0;34m\u001b[0m\u001b[0m\n",
            "\u001b[0;31mValueError\u001b[0m: invalid literal for int() with base 10: 'playing'"
          ]
        }
      ],
      "source": [
        "def show_options():\n",
        " print(\"\\n\")\n",
        " print(\"~~~~~~~~TO_DO LIST~~~~~~~~~~\")\n",
        " print(\"1.Add Task\")\n",
        " print(\"2.Delete a Task\")\n",
        " print(\"3.Delete all Tasks\")\n",
        " print(\"4.Edit a Task\")\n",
        " print(\"5.View tasks\")\n",
        " print(\"6.Exit\")\n",
        "\n",
        "#creating an empty list\n",
        "taskList=[]\n",
        "# defining funcxtion to adding task into list\n",
        "def addingTask():\n",
        "  wish= input(\"Enter your task to do:\")\n",
        "  taskList.append(wish)\n",
        "  print(\"Your task added to LIST\")\n",
        "#defining function to delete a task from list\n",
        "def deletingTask():\n",
        "  if len(taskList)==0:\n",
        "    print(\"No tasks to delete in list\")\n",
        "  else:\n",
        "    print(\"Available tasks\")\n",
        "    for index,wish in enumerate(taskList):\n",
        "      print(f\"{index+1}.{wish}\")\n",
        "      option=int(input(\"enter the number of task to be deleted=\"))\n",
        "      if option>0 and option<len(taskList):\n",
        "       del taskList[option-1]\n",
        "       print(\"Task deleted\")\n",
        "      else:\n",
        "       print(\"Invalid option\")\n",
        "\n",
        "#defining function to delete all tasks from list\n",
        "def deleteAll():\n",
        "  taskList.clear()\n",
        "  print(\"All tasks deleted\")\n",
        "\n",
        "# defini function to view list of tash\n",
        "def viewTask():\n",
        "  if not taskList:\n",
        "    print(\"No tasks to viwe\")\n",
        "  else:\n",
        "    print(\"*****TASKS******\")\n",
        "    for index,wish in enumerate(taskList):\n",
        "      print(f\"{index+1}.{wish}\")\n",
        "\n",
        "\n",
        "# defining function to edit a task from list\n",
        "def editingTask():\n",
        "  if len(taskList)==0:\n",
        "    print(\"No trask is available to edit in list\")\n",
        "  else:\n",
        "    print(\"Available tasks\")\n",
        "    for index,wish in enumerate(taskList):\n",
        "      print(f\"{index+1}.{wish}\")\n",
        "      option=int(input(\"enter the number of task to be edited=\"))\n",
        "      if option>0 and option<len(taskList):\n",
        "             new_wish=input(\"Enter the new task\")\n",
        "             taskList[option-1]=new_wish\n",
        "             print(\"Task edited\")\n",
        "      else:\n",
        "             print(\"Invalid option\")\n",
        "\n",
        "\n",
        "while True:\n",
        "  show_options()\n",
        "  option=int(input(\"Enter your option:\"))\n",
        "\n",
        "  if option==1:\n",
        "   addingTask()\n",
        "  elif option==2:\n",
        "    deletingTask()\n",
        "  elif option==3:\n",
        "    deleteAll()\n",
        "  elif option==4:\n",
        "    editingTask()\n",
        "  elif option==5:\n",
        "    viewTask()\n",
        "  elif option==6:\n",
        "    print(\"exciting from task\")\n",
        "    break\n",
        "  else:\n",
        "    print(\"Invalid option\")"
      ]
    }
  ],
  "metadata": {
    "colab": {
      "provenance": [],
      "authorship_tag": "ABX9TyM+g+0WDKfG9UYbZdKpfGp0",
      "include_colab_link": true
    },
    "kernelspec": {
      "display_name": "Python 3",
      "name": "python3"
    },
    "language_info": {
      "name": "python"
    }
  },
  "nbformat": 4,
  "nbformat_minor": 0
}